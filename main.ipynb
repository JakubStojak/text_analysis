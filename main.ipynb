{
 "cells": [
  {
   "cell_type": "code",
   "execution_count": 25,
   "metadata": {},
   "outputs": [],
   "source": [
    "with open(\"MF_DOOM_text_learn.rtf\") as file_to_read:\n",
    "    doom_train_texts = file_to_read.read()"
   ]
  },
  {
   "cell_type": "code",
   "execution_count": 26,
   "metadata": {},
   "outputs": [],
   "source": [
    "songs_list = doom_train_texts.split(\"\\n\")"
   ]
  },
  {
   "cell_type": "code",
   "execution_count": 27,
   "metadata": {},
   "outputs": [],
   "source": [
    "songs_list = [song for song in songs_list if len(song) > 5]"
   ]
  },
  {
   "cell_type": "code",
   "execution_count": 28,
   "metadata": {},
   "outputs": [
    {
     "data": {
      "text/plain": [
       "['{\\\\rtf1\\\\ansi\\\\ansicpg1252\\\\cocoartf2580',\n",
       " '\\\\cocoatextscaling0\\\\cocoaplatform0{\\\\fonttbl\\\\f0\\\\fswiss\\\\fcharset0 Helvetica;}',\n",
       " '{\\\\colortbl;\\\\red255\\\\green255\\\\blue255;\\\\red25\\\\green28\\\\blue31;}',\n",
       " '{\\\\*\\\\expandedcolortbl;;\\\\cssrgb\\\\c12941\\\\c14510\\\\c16078;}',\n",
       " '\\\\paperw11900\\\\paperh16840\\\\margl1440\\\\margr1440\\\\vieww11520\\\\viewh8400\\\\viewkind0',\n",
       " '\\\\deftab720',\n",
       " '\\\\pard\\\\pardeftab720\\\\partightenfactor0',\n",
       " '\\\\f0\\\\fs28 \\\\cf2 \\\\expnd0\\\\expndtw0\\\\kerning0',\n",
       " 'Beef rap, could lead to getting teeth capped Or even a wreath for mom dukes on some grief crap I suggest you change your diet It can lead to high blood pressure if you fry it Or even a stroke, heart attack, heart disease It ain\\'t no starting back once arteries start to squeeze Take the easy way out phony, until then They know they wouldn\\'t be talking that bologna in the bullpen So disgusting, pardon self as I discuss this They talk a wealth of shit and they ain\\'t never seen the justice Bust this, like a cold milk from out the toilet Two batteries, some Brillo and some foil, heat\\'ll boil it He be better off on PC glued And it\\'s a feud so don\\'t be in no TV mood Every week it\\'s mystery meat, seaweed stewed (Food, we need food!) He wears a mask just to cover the raw flesh A rather ugly brother with flows that\\'s gorgeous Drop dead joints hit the whips like bird shit They need it like a hole in they head or a third tit Her bra smell, his card say, \"Aw Hell!\" Barred from all bars and kicked out the Carvel Keep a cooker where the jar fell And keep a cheap hooker that\\'s off the hook like Ma Bell Top bleeding, maybe fella took the loaded rod gears Stop feeding babies colored sugar-coated lard squares The odd pair swears and God fears Even when it\\'s rotten, we\\'ve gotten through the hard years I wrote this note around New Year\\'s Off a couple of shots and a few beers, but who cares? Enough about me, it\\'s about the beats Not about the streets and who food he \\'bout to eat A rhyming cannibal who\\'s dressed to kill and cynical Whether is it animal, vegetable or mineral It\\'s a miracle how he get so lyrical And proceed to move the crowd like a old negro spiritual For a mil\\', do a commercial for Mello Yello Tell them devils hell no, sell y\\'all own Jello We hollow krills, she swallow pills He follow flea collar three dollar bills And squealed for halal veal, if y\\'all appeal Dig the real, it\\'s how the big ballers deal Twirl a L after every meal (Food!) What up? To all rappers: shut up with your shutting up And keep a shirt on, at least a button-up Yuck, is they rhymers or strippin\\' males? Out of work jerks since they shut down Chippendales They chippin\\' nails, DOOM tippin\\' scales Let alone the pre-orders that\\'s counted off shippin\\' sales This one goes out to all my peoples skippin\\' bail Dippin\\' jail, whippin\\' tail and sippin\\' ale Light the doobie \\'til it glow like a ruby After which they couldn\\'t find the Villain like Scooby He\\'s in the lab on some old Buddha Monk shit Overproof drunk shit, but who\\'d\\'a thunk it? Punk, try and ask why ours be better Could be the iron mask or the Cosby sweater Yes, you, who\\'s screwed by the dude on the CD, nude (We need food!)\\\\',\n",
       " \"As you call 'em, they call you when they need something Trees for the blunt, the g's for the front I found a way to get piece of mind for years And left the hell alone, turn a deaf ear to the cellular phone Send me a letter, or better, we could see each other in real life Just so you could feel me like a steel knife At least so you could see the white of they eyes Bright with surprise, once they finish spitting lies Asssociates, is your boys, your girls, bitches, niggas, homies Close, but really don't know me Mom, dad, comrade, peeps, brothers, sisters, duns, dunnies Some come around when they need some money Others make us laugh like the Sunday funnies Fam be around whether you paid or bummy You could either ignore this advice, or take it from me Be too nice and people take you for a dummy So nowadays he ain't so friendly Actually they wouldn't even made a worthy enemy Read the signs: no feeding the baboon Seeing as how they got ya back bleeding from the stab wounds Ya'll know the dance, they smile in ya face, ya'll know the glance Try to put 'em on, they blow the chance Never let your so-called mans know ya plans (How many of us have them?)a show of hands (FRIENDS!) Is a term some people use loosely I'm real choosy on what I choose to let crews see You telling me, I try to act broke Jealousy, the number one killer among black folk Fellas be under some type of spell, like crack smoke Ghetto Cinderellas, lead 'em right to your stack, loc Just another way a chick'll lead to your end I check the dictionary for the meaning of Friends It said: Person, one who likes to socialize with Sympathiser, helper, and that's about the size of it Most of the time these attributes is one-sided To bolster the crime, they apt to shoot you through your eyelid And they can't hide it, going wild like a white bitch Sometimes ya need to cut niggas off like a light switch (Click!) and when things get quiet Catch 'em like a thief in the night (Bow!) what a riot I first met Mister Fantastik at a arms deal Don't let it get drastic, think of how yer moms'll feel When it get for real, the steel get to sparking Everything darken, and ain't no talking For somethin so cheap it sure buys a lot of trouble Ya better off focusing than tryin to plot to bubble Or else it'd be a sad note to end on, the guns we got is (One's we can depend on..FRIENDS!) Some come in the form of co-dependence Alotta times only end up bein co-defendants Ten bucks say they tell for a lower sentence And leave you up under the jail, beggin for a penance It don't make no sense, what happened to the loyalty? Honor amongst crooks, trust amongst royalty I'd rather go out in a blaze, than give 'em the glory (How many of us have--) a similar story (FRIENDS!) Before lovers we used to have some type of overstanding Just so when I let her get the man thing, she know its no strings We could do the damn thing, but ho its no rings Just how the tramp swings, will she see 'em again? That depends on how good was the skins And could she memorize the lessons, it ain't no need to pretend Even though she let 'em stab it, [she know they just friends] \\\\\",\n",
       " 'I got this girl and she wants me to duke her I told her I\\'d come scoop her around 8, she said \"Super!\" That sounds great, shorty girl\\'s a trooper No matter what I need her to do, she be like \"Super!\" Own his own throne, the boss like King Koopa On the microphone he flossed the ring \"Super!\" Average emcees is like a TV blooper MF DOOM he\\'s like D.B. Cooper Out with the moolah, I let her get a outfit Just to cool her off she said niggas ain\\'t about shit I wonder if she meant it, I doubt it The way it be in her mouth she can\\'t live without it And can\\'t live with this, handle your business Villain\\'ll stay on a scandalous hoes shit list One pack of cookies please, Mr. Hooper Its fun smacking rookies, he is the \"Super!\" Look like a black wookie when he let his beard grow Weirdo, brown skin\\'ded always kept his hair low Rumor has it it\\'s a S-Curl accident DOOM was always known to keep the best girls backs bent Some say it\\'s the eyes, some say the accent A lotta guys wonder where they stacks went I call her thunder thighs with the fatty swolla Only mess with high rollers, do what daddy told her No matter the city she with me to do the thang thang Work in the coochie, hooptie chitty chitty bang bang Same name on the titty as on the name ring Pretty like Baby D off \"All in the Same Gang\" Keep my eye on her, really don\\'t trust her But I treat her like a daughter, taught her how to bust a nut And the heat to turn beef to horsemeat chalupa Teach her how to hold it, of course he is the \"Super!\" See most cats treat her like Foofur Or beat her to a stupor, take it from the \"Super!\" You need to make her feel cuter And lay down the G like Luther, everything\\'ll be \"Super!\" Do for her, keep her in a new fur So she look sweet when she go to meet the \"Super!\" Got the buddha get the Grenadiers, twist it Put it in the air, come here, kiss it Listen here scooter, let her try to bag you When she\\'s on the rag never let her fry the Ragu Which\\'ll have you under some type of spell crying \"dag boo\" Her name on your back in a tattoo Whether a bourgie broad, nerd ho, street chick Don\\'t call her wifey if you met her at the Freaknik You don\\'t want her don\\'t waste her time, I\\'ll dupe her And be a father to your child like the \"Super!\" He keep his hoes in check Sends \\'em out to get glows from off frozen necks Tell \\'em take his clothes, leave him posing naked for real Better yet, get him for the check off the record deal Find out where he keep the Tec and the blue steel Make sure for extra wreck let him know how you feel And while he\\'s running down to all star weekend to ball I\\'m coming with the U-HAUL!\\\\',\n",
       " \"Rap snitches, telling all their business Sit in the court and be their own star witness Do you see the perpetrator? - Yeah, I'm right here Fuck around, get the whole label sent up for years [Verse 1: Mr. Fantastik] Type profile low, like A in Paid in Full Attract heavy cash cause the game's centripetal Mister Fantastik, long dough like elastic Guard my life with twin Glocks that's made out of plastic Can't stand a brown nosing nigga fake ass bastard Admiring my style, tour bus through Manhattan Plotting, plan the quickest, my flow's the sickest My hoes be the thickest, my dro the stickiest Street nigga, stamped and bonafide When beef jump niggas come get me cause they know I ride True to the ski mask, New York's my origin Play a fake gangsta like a old accordion According to him, when the D's rushed in Complication from the wire testimony was thin Caused his man to go up north, the ball hit 'em again Lame rap snitch nigga even told on the Mexican [Hook] (x2) [Verse 2: MF DOOM] True, there's rules to this shit, fools dare care Everybody wanna rule the world with tears for fear Yeah yeah tell 'em tell it on the mountain hill Running up they mouth bill, everybody doubting still Informer, keep it up and get tested Pop through the bubble vest or double breasted He keep a lab down south in the little beast So much heat you woulda thought it was the Middle East A little grease always keeps the wheels a spinning Like sitting on twenty threes to get the squealers grinning Hitting on many trees, feel real linen Spitting on enemies, get the steel for tin men Where no brains but gum flap He said his gun clap, then he fled after one slap Son shut your trap, save it for the bitches Mmm, delicious, rap snitch knishes [Outro: Mr. Fantastik] You know what I'm saying? (It's terrible) Crazy, man, I'm just analyzing this whole game This is bugged out, man, niggas is snitching Telling on they own self (It's a horror, yo) around and get everybody bagged, man (Atrocities) Fuck around and get yo mama bagged,  You know your grandmama used to be bootlegging...\\\\\",\n",
       " 'It\\'s horrible One lonely evening alone, home End up with carpal tunnel syndrome And here I am, known for giving heavy back aches Grown and living off of Little Debbie snack cakes Supposed to be checking emails All I got is messages from ass naked females I don\\'t know a Jenny She said it\\'s free and I won\\'t owe her a penny And that\\'s the last time I saw her But thousands of more horrors on online Gomorrah And Sodom, they got \\'em with they curls out And they got a better sales pitch than the Girl Scouts I wonder what I owe her For a whole box of caramel coconut samoa (\"Nite nite!\"), Uh, ok honey, sweet dreams Now it\\'s time to get serious like Peek Freans A metal handful, wipe it on the quilt Wife wake up and I\\'m kill\\'t over spilt milk Locked in, looking at your picture Fully clothed winter and I\\'m right there with ya Thinking about the last time I split your wishbone A man could only wish you do the same \\'til he get home Fat chance, at least he get snacks That\\'d have to do \\'til a brother get back Until then smack One-Eyed Jack And hope one of his peoples can hook him with a tri-pack That\\'s three different flavors Chocolate, vanilla and strawberry wafers Acting all hard, \\'bout to get beat up I\\'ll show him what time it is once I get this sheet up Soon as he fell off the beat down All I hear is, \"13th cell, put the sheet down\" Damn C.O., what the hell do she know? Besides the fact she wanna get dug out on the d-low A workaholic with a fountain in the ink pen Out in the mountains and I stopped drinking again In the wee hours, he\\'s gotten farther Needing three showers, being hot and bothered The wiz with her legs bent, pregnant God bless the day she wondered where her egg went I need a L, it\\'s hard to drink without it And could use some kookies but trying not to think about it Watching \"BET\" on jazz for knowledge on file Every other commercial, college hoes gone wild Soft batch, I prefer the other bunch Like we got for lunch, chocolate fudge butter crunch He don\\'t mess with the Ritz Bits Wheat Thins, Saltines or Triscuits Matzos or Cheez-Its Catch sugar fits every time that he sees Chips Ahoy, double chocolate chunk Something with the bubble and the junk in the trunk Even the Oreos, no matter what weather Always kept \\'em dipped in milk and stuck together In the game he\\'s shameless Even uses a code name: Famous Amos It\\'s cheaper than a short stay at the Days Inn And good like 25 cent oatmeal raisin Give a hand to who invented the camera Skip past the graham, animal and Grandma\\'s Shh, make sure she don\\'t wake from her dream chill Or get caught with a handful of cream fill \\\\']"
      ]
     },
     "execution_count": 28,
     "metadata": {},
     "output_type": "execute_result"
    }
   ],
   "source": [
    "songs_list"
   ]
  },
  {
   "cell_type": "code",
   "execution_count": 29,
   "metadata": {},
   "outputs": [],
   "source": [
    "for idx, song in enumerate(songs_list, 1):\n",
    "    file_name = \"doom_train/\" + str(idx) + \".txt\"\n",
    "    with open(file_name, 'w') as ftw:\n",
    "        ftw.write(song)"
   ]
  },
  {
   "cell_type": "code",
   "execution_count": null,
   "metadata": {},
   "outputs": [],
   "source": []
  },
  {
   "cell_type": "code",
   "execution_count": null,
   "metadata": {},
   "outputs": [],
   "source": []
  },
  {
   "cell_type": "code",
   "execution_count": null,
   "metadata": {},
   "outputs": [],
   "source": []
  }
 ],
 "metadata": {
  "kernelspec": {
   "display_name": "Python 3",
   "language": "python",
   "name": "python3"
  },
  "language_info": {
   "codemirror_mode": {
    "name": "ipython",
    "version": 3
   },
   "file_extension": ".py",
   "mimetype": "text/x-python",
   "name": "python",
   "nbconvert_exporter": "python",
   "pygments_lexer": "ipython3",
   "version": "3.8.5"
  }
 },
 "nbformat": 4,
 "nbformat_minor": 4
}
