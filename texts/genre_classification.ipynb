{
 "cells": [
  {
   "cell_type": "code",
   "execution_count": 116,
   "metadata": {},
   "outputs": [],
   "source": [
    "import pandas as pd\n",
    "from sklearn.feature_extraction.text import CountVectorizer\n",
    "from sklearn.linear_model import LogisticRegression"
   ]
  },
  {
   "cell_type": "code",
   "execution_count": 117,
   "metadata": {},
   "outputs": [],
   "source": [
    "def read_file_text_to_str(file_path: str) -> str:\n",
    "    with open(file_path, \"r\", encoding=\"utf-8\") as file: \n",
    "        text = file.read()\n",
    "    cleaned_text = \"\".join([char for char in text if char.isalpha() or char == \" \"])\n",
    "    cf_removed_text = \" \".join([word for word in cleaned_text.split() if word != \"cf\"])\n",
    "    return cf_removed_text"
   ]
  },
  {
   "cell_type": "code",
   "execution_count": 118,
   "metadata": {},
   "outputs": [],
   "source": [
    "orwell_text = read_file_text_to_str(file_path = \"george_orwell_text.rtf\")\n",
    "shakespeare_text = read_file_text_to_str(file_path=\"shakespeare_text.rtf\")\n",
    "dylan_text = read_file_text_to_str(file_path=\"bob_dylan_lyrics.rtf\")"
   ]
  },
  {
   "cell_type": "markdown",
   "metadata": {},
   "source": [
    "# term frequency - inverse document frequency"
   ]
  },
  {
   "cell_type": "code",
   "execution_count": 119,
   "metadata": {},
   "outputs": [],
   "source": [
    "from sklearn.feature_extraction.text import TfidfVectorizer"
   ]
  },
  {
   "cell_type": "code",
   "execution_count": 246,
   "metadata": {},
   "outputs": [],
   "source": [
    "tfidf_vectorizer = TfidfVectorizer(stop_words=\"english\", max_features=30)"
   ]
  },
  {
   "cell_type": "code",
   "execution_count": 247,
   "metadata": {},
   "outputs": [],
   "source": [
    "text_list = [orwell_text, shakespeare_text, dylan_text]"
   ]
  },
  {
   "cell_type": "code",
   "execution_count": 248,
   "metadata": {},
   "outputs": [],
   "source": [
    "text_features = tfidf_vectorizer.fit_transform(text_list).toarray()"
   ]
  },
  {
   "cell_type": "code",
   "execution_count": 249,
   "metadata": {},
   "outputs": [
    {
     "data": {
      "text/plain": [
       "(3, 30)"
      ]
     },
     "execution_count": 249,
     "metadata": {},
     "output_type": "execute_result"
    }
   ],
   "source": [
    "text_features.shape"
   ]
  },
  {
   "cell_type": "code",
   "execution_count": 250,
   "metadata": {},
   "outputs": [],
   "source": [
    "text_features_table = pd.DataFrame(text_features, columns=tfidf_vectorizer.get_feature_names())"
   ]
  },
  {
   "cell_type": "code",
   "execution_count": 251,
   "metadata": {},
   "outputs": [
    {
     "data": {
      "text/html": [
       "<div>\n",
       "<style scoped>\n",
       "    .dataframe tbody tr th:only-of-type {\n",
       "        vertical-align: middle;\n",
       "    }\n",
       "\n",
       "    .dataframe tbody tr th {\n",
       "        vertical-align: top;\n",
       "    }\n",
       "\n",
       "    .dataframe thead th {\n",
       "        text-align: right;\n",
       "    }\n",
       "</style>\n",
       "<table border=\"1\" class=\"dataframe\">\n",
       "  <thead>\n",
       "    <tr style=\"text-align: right;\">\n",
       "      <th></th>\n",
       "      <th>0</th>\n",
       "      <th>1</th>\n",
       "      <th>2</th>\n",
       "    </tr>\n",
       "  </thead>\n",
       "  <tbody>\n",
       "    <tr>\n",
       "      <th>winston</th>\n",
       "      <td>0.467979</td>\n",
       "      <td>0.000000</td>\n",
       "      <td>0.000000</td>\n",
       "    </tr>\n",
       "    <tr>\n",
       "      <th>party</th>\n",
       "      <td>0.313142</td>\n",
       "      <td>0.000000</td>\n",
       "      <td>0.000000</td>\n",
       "    </tr>\n",
       "    <tr>\n",
       "      <th>animals</th>\n",
       "      <td>0.294654</td>\n",
       "      <td>0.000000</td>\n",
       "      <td>0.000000</td>\n",
       "    </tr>\n",
       "    <tr>\n",
       "      <th>said</th>\n",
       "      <td>0.286633</td>\n",
       "      <td>0.005407</td>\n",
       "      <td>0.260591</td>\n",
       "    </tr>\n",
       "    <tr>\n",
       "      <th>planet</th>\n",
       "      <td>0.226479</td>\n",
       "      <td>0.000000</td>\n",
       "      <td>0.000000</td>\n",
       "    </tr>\n",
       "    <tr>\n",
       "      <th>ebookcom</th>\n",
       "      <td>0.225323</td>\n",
       "      <td>0.000000</td>\n",
       "      <td>0.000000</td>\n",
       "    </tr>\n",
       "    <tr>\n",
       "      <th>ebooks</th>\n",
       "      <td>0.225323</td>\n",
       "      <td>0.000000</td>\n",
       "      <td>0.000000</td>\n",
       "    </tr>\n",
       "    <tr>\n",
       "      <th>obrien</th>\n",
       "      <td>0.199902</td>\n",
       "      <td>0.000000</td>\n",
       "      <td>0.000000</td>\n",
       "    </tr>\n",
       "    <tr>\n",
       "      <th>did</th>\n",
       "      <td>0.193819</td>\n",
       "      <td>0.100036</td>\n",
       "      <td>0.156354</td>\n",
       "    </tr>\n",
       "    <tr>\n",
       "      <th>time</th>\n",
       "      <td>0.180852</td>\n",
       "      <td>0.059481</td>\n",
       "      <td>0.202682</td>\n",
       "    </tr>\n",
       "  </tbody>\n",
       "</table>\n",
       "</div>"
      ],
      "text/plain": [
       "                 0         1         2\n",
       "winston   0.467979  0.000000  0.000000\n",
       "party     0.313142  0.000000  0.000000\n",
       "animals   0.294654  0.000000  0.000000\n",
       "said      0.286633  0.005407  0.260591\n",
       "planet    0.226479  0.000000  0.000000\n",
       "ebookcom  0.225323  0.000000  0.000000\n",
       "ebooks    0.225323  0.000000  0.000000\n",
       "obrien    0.199902  0.000000  0.000000\n",
       "did       0.193819  0.100036  0.156354\n",
       "time      0.180852  0.059481  0.202682"
      ]
     },
     "execution_count": 251,
     "metadata": {},
     "output_type": "execute_result"
    }
   ],
   "source": [
    "text_features_table.T.sort_values(0, ascending=False).head(10)"
   ]
  },
  {
   "cell_type": "code",
   "execution_count": 252,
   "metadata": {},
   "outputs": [
    {
     "data": {
      "text/html": [
       "<div>\n",
       "<style scoped>\n",
       "    .dataframe tbody tr th:only-of-type {\n",
       "        vertical-align: middle;\n",
       "    }\n",
       "\n",
       "    .dataframe tbody tr th {\n",
       "        vertical-align: top;\n",
       "    }\n",
       "\n",
       "    .dataframe thead th {\n",
       "        text-align: right;\n",
       "    }\n",
       "</style>\n",
       "<table border=\"1\" class=\"dataframe\">\n",
       "  <thead>\n",
       "    <tr style=\"text-align: right;\">\n",
       "      <th></th>\n",
       "      <th>0</th>\n",
       "      <th>1</th>\n",
       "      <th>2</th>\n",
       "    </tr>\n",
       "  </thead>\n",
       "  <tbody>\n",
       "    <tr>\n",
       "      <th>macbethfb</th>\n",
       "      <td>0.000000</td>\n",
       "      <td>0.970475</td>\n",
       "      <td>0.000000</td>\n",
       "    </tr>\n",
       "    <tr>\n",
       "      <th>come</th>\n",
       "      <td>0.070293</td>\n",
       "      <td>0.110850</td>\n",
       "      <td>0.150563</td>\n",
       "    </tr>\n",
       "    <tr>\n",
       "      <th>did</th>\n",
       "      <td>0.193819</td>\n",
       "      <td>0.100036</td>\n",
       "      <td>0.156354</td>\n",
       "    </tr>\n",
       "    <tr>\n",
       "      <th>make</th>\n",
       "      <td>0.081895</td>\n",
       "      <td>0.091925</td>\n",
       "      <td>0.115818</td>\n",
       "    </tr>\n",
       "    <tr>\n",
       "      <th>like</th>\n",
       "      <td>0.148776</td>\n",
       "      <td>0.089221</td>\n",
       "      <td>0.451690</td>\n",
       "    </tr>\n",
       "    <tr>\n",
       "      <th>say</th>\n",
       "      <td>0.081895</td>\n",
       "      <td>0.078406</td>\n",
       "      <td>0.225845</td>\n",
       "    </tr>\n",
       "    <tr>\n",
       "      <th>know</th>\n",
       "      <td>0.098957</td>\n",
       "      <td>0.059481</td>\n",
       "      <td>0.463272</td>\n",
       "    </tr>\n",
       "    <tr>\n",
       "      <th>time</th>\n",
       "      <td>0.180852</td>\n",
       "      <td>0.059481</td>\n",
       "      <td>0.202682</td>\n",
       "    </tr>\n",
       "    <tr>\n",
       "      <th>man</th>\n",
       "      <td>0.112606</td>\n",
       "      <td>0.045962</td>\n",
       "      <td>0.301127</td>\n",
       "    </tr>\n",
       "    <tr>\n",
       "      <th>way</th>\n",
       "      <td>0.108511</td>\n",
       "      <td>0.037851</td>\n",
       "      <td>0.081073</td>\n",
       "    </tr>\n",
       "  </tbody>\n",
       "</table>\n",
       "</div>"
      ],
      "text/plain": [
       "                  0         1         2\n",
       "macbethfb  0.000000  0.970475  0.000000\n",
       "come       0.070293  0.110850  0.150563\n",
       "did        0.193819  0.100036  0.156354\n",
       "make       0.081895  0.091925  0.115818\n",
       "like       0.148776  0.089221  0.451690\n",
       "say        0.081895  0.078406  0.225845\n",
       "know       0.098957  0.059481  0.463272\n",
       "time       0.180852  0.059481  0.202682\n",
       "man        0.112606  0.045962  0.301127\n",
       "way        0.108511  0.037851  0.081073"
      ]
     },
     "execution_count": 252,
     "metadata": {},
     "output_type": "execute_result"
    }
   ],
   "source": [
    "text_features_table.T.sort_values(1, ascending=False).head(10)"
   ]
  },
  {
   "cell_type": "code",
   "execution_count": 253,
   "metadata": {},
   "outputs": [
    {
     "data": {
      "text/html": [
       "<div>\n",
       "<style scoped>\n",
       "    .dataframe tbody tr th:only-of-type {\n",
       "        vertical-align: middle;\n",
       "    }\n",
       "\n",
       "    .dataframe tbody tr th {\n",
       "        vertical-align: top;\n",
       "    }\n",
       "\n",
       "    .dataframe thead th {\n",
       "        text-align: right;\n",
       "    }\n",
       "</style>\n",
       "<table border=\"1\" class=\"dataframe\">\n",
       "  <thead>\n",
       "    <tr style=\"text-align: right;\">\n",
       "      <th></th>\n",
       "      <th>0</th>\n",
       "      <th>1</th>\n",
       "      <th>2</th>\n",
       "    </tr>\n",
       "  </thead>\n",
       "  <tbody>\n",
       "    <tr>\n",
       "      <th>know</th>\n",
       "      <td>0.098957</td>\n",
       "      <td>0.059481</td>\n",
       "      <td>0.463272</td>\n",
       "    </tr>\n",
       "    <tr>\n",
       "      <th>just</th>\n",
       "      <td>0.084625</td>\n",
       "      <td>0.002704</td>\n",
       "      <td>0.463272</td>\n",
       "    </tr>\n",
       "    <tr>\n",
       "      <th>like</th>\n",
       "      <td>0.148776</td>\n",
       "      <td>0.089221</td>\n",
       "      <td>0.451690</td>\n",
       "    </tr>\n",
       "    <tr>\n",
       "      <th>man</th>\n",
       "      <td>0.112606</td>\n",
       "      <td>0.045962</td>\n",
       "      <td>0.301127</td>\n",
       "    </tr>\n",
       "    <tr>\n",
       "      <th>said</th>\n",
       "      <td>0.286633</td>\n",
       "      <td>0.005407</td>\n",
       "      <td>0.260591</td>\n",
       "    </tr>\n",
       "    <tr>\n",
       "      <th>say</th>\n",
       "      <td>0.081895</td>\n",
       "      <td>0.078406</td>\n",
       "      <td>0.225845</td>\n",
       "    </tr>\n",
       "    <tr>\n",
       "      <th>time</th>\n",
       "      <td>0.180852</td>\n",
       "      <td>0.059481</td>\n",
       "      <td>0.202682</td>\n",
       "    </tr>\n",
       "    <tr>\n",
       "      <th>did</th>\n",
       "      <td>0.193819</td>\n",
       "      <td>0.100036</td>\n",
       "      <td>0.156354</td>\n",
       "    </tr>\n",
       "    <tr>\n",
       "      <th>come</th>\n",
       "      <td>0.070293</td>\n",
       "      <td>0.110850</td>\n",
       "      <td>0.150563</td>\n",
       "    </tr>\n",
       "    <tr>\n",
       "      <th>eyes</th>\n",
       "      <td>0.094862</td>\n",
       "      <td>0.016222</td>\n",
       "      <td>0.127400</td>\n",
       "    </tr>\n",
       "  </tbody>\n",
       "</table>\n",
       "</div>"
      ],
      "text/plain": [
       "             0         1         2\n",
       "know  0.098957  0.059481  0.463272\n",
       "just  0.084625  0.002704  0.463272\n",
       "like  0.148776  0.089221  0.451690\n",
       "man   0.112606  0.045962  0.301127\n",
       "said  0.286633  0.005407  0.260591\n",
       "say   0.081895  0.078406  0.225845\n",
       "time  0.180852  0.059481  0.202682\n",
       "did   0.193819  0.100036  0.156354\n",
       "come  0.070293  0.110850  0.150563\n",
       "eyes  0.094862  0.016222  0.127400"
      ]
     },
     "execution_count": 253,
     "metadata": {},
     "output_type": "execute_result"
    }
   ],
   "source": [
    "text_features_table.T.sort_values(2, ascending=False).head(10)"
   ]
  },
  {
   "cell_type": "code",
   "execution_count": 254,
   "metadata": {},
   "outputs": [],
   "source": [
    "model = LogisticRegression()"
   ]
  },
  {
   "cell_type": "code",
   "execution_count": 255,
   "metadata": {},
   "outputs": [
    {
     "data": {
      "text/plain": [
       "LogisticRegression()"
      ]
     },
     "execution_count": 255,
     "metadata": {},
     "output_type": "execute_result"
    }
   ],
   "source": [
    "model.fit(text_features, [0,1,2])"
   ]
  },
  {
   "cell_type": "code",
   "execution_count": 256,
   "metadata": {},
   "outputs": [],
   "source": [
    "new_text = read_file_text_to_str(file_path=\"beatles_text.rtf\")"
   ]
  },
  {
   "cell_type": "code",
   "execution_count": 257,
   "metadata": {},
   "outputs": [],
   "source": [
    "new_text_features = tfidf_vectorizer.transform([new_text]).toarray()"
   ]
  },
  {
   "cell_type": "code",
   "execution_count": 258,
   "metadata": {},
   "outputs": [
    {
     "data": {
      "text/plain": [
       "array([2])"
      ]
     },
     "execution_count": 258,
     "metadata": {},
     "output_type": "execute_result"
    }
   ],
   "source": [
    "model.predict(new_text_features)"
   ]
  },
  {
   "cell_type": "code",
   "execution_count": 259,
   "metadata": {},
   "outputs": [
    {
     "data": {
      "text/plain": [
       "array([[0.33728032, 0.29421454, 0.36850514]])"
      ]
     },
     "execution_count": 259,
     "metadata": {},
     "output_type": "execute_result"
    }
   ],
   "source": [
    "model.predict_proba(new_text_features)"
   ]
  },
  {
   "cell_type": "code",
   "execution_count": null,
   "metadata": {},
   "outputs": [],
   "source": []
  },
  {
   "cell_type": "code",
   "execution_count": null,
   "metadata": {},
   "outputs": [],
   "source": []
  },
  {
   "cell_type": "code",
   "execution_count": null,
   "metadata": {},
   "outputs": [],
   "source": []
  }
 ],
 "metadata": {
  "kernelspec": {
   "display_name": "Python 3",
   "language": "python",
   "name": "python3"
  },
  "language_info": {
   "codemirror_mode": {
    "name": "ipython",
    "version": 3
   },
   "file_extension": ".py",
   "mimetype": "text/x-python",
   "name": "python",
   "nbconvert_exporter": "python",
   "pygments_lexer": "ipython3",
   "version": "3.8.5"
  }
 },
 "nbformat": 4,
 "nbformat_minor": 4
}
